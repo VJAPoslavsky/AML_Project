{
  "cells": [
    {
      "cell_type": "code",
      "execution_count": null,
      "metadata": {
        "id": "rEiB1IqLYR65"
      },
      "outputs": [],
      "source": [
        "!pip install scikit-optimize"
      ]
    },
    {
      "cell_type": "code",
      "execution_count": null,
      "metadata": {
        "id": "l00z-7WtXhCZ"
      },
      "outputs": [],
      "source": [
        "import numpy as np\n",
        "import pandas as pd\n",
        "\n",
        "from sklearn.neural_network import MLPRegressor\n",
        "from sklearn.metrics import mean_squared_error\n",
        "from sklearn.datasets import load_boston\n",
        "from sklearn.model_selection import KFold, cross_val_score\n",
        "from sklearn.model_selection import train_test_split\n",
        "from hyperopt import fmin, tpe, hp, anneal, Trials, space_eval\n",
        "\n",
        "%matplotlib inline\n",
        "\n",
        "import warnings\n",
        "warnings.filterwarnings('ignore')"
      ]
    },
    {
      "cell_type": "code",
      "execution_count": null,
      "metadata": {
        "id": "gx6XMlaOYMsu"
      },
      "outputs": [],
      "source": [
        "random_state = 42"
      ]
    },
    {
      "cell_type": "code",
      "execution_count": null,
      "metadata": {
        "id": "v9YwNOhPXo79"
      },
      "outputs": [],
      "source": [
        "boston = load_boston()\n",
        "X = pd.DataFrame(boston.data, columns=boston.feature_names)\n",
        "y = boston.target\n",
        "train_data, test_data, train_targets, test_targets = train_test_split(X, y, test_size=0.20, shuffle=True, random_state=42)"
      ]
    },
    {
      "cell_type": "code",
      "execution_count": null,
      "metadata": {
        "id": "UfOwXiOnXrYl"
      },
      "outputs": [],
      "source": [
        "# Create tuples hidden_layer_sizes\n",
        "hidden_layer_tuples = []\n",
        "n_layers = [1, 2]\n",
        "n_neurons = [10, 20, 30, 40, 50]\n",
        "for layers in n_layers:\n",
        "    for neurons in n_neurons:\n",
        "        cur_size = (neurons,) * layers\n",
        "        hidden_layer_tuples.append(cur_size)\n",
        "print('The first hidden layer tuples:')\n",
        "print(hidden_layer_tuples)"
      ]
    },
    {
      "cell_type": "code",
      "execution_count": null,
      "metadata": {
        "id": "CmxEzpWHXsqP"
      },
      "outputs": [],
      "source": [
        "all_val_scores = []\n",
        "all_test_scores = []\n",
        "n_iter = 100\n",
        "num_folds=2\n",
        "kf = KFold(n_splits=num_folds, shuffle=True, random_state=random_state)"
      ]
    },
    {
      "cell_type": "code",
      "execution_count": null,
      "metadata": {
        "id": "ecQMMy6RXt7v"
      },
      "outputs": [],
      "source": [
        "def calculate_min(scores):\n",
        "    test_scores = []\n",
        "    min_test_score = np.inf\n",
        "    for score in scores:\n",
        "        if score < min_test_score:\n",
        "            min_test_score = score\n",
        "        test_scores.append(min_test_score)\n",
        "    return test_scores"
      ]
    },
    {
      "cell_type": "code",
      "execution_count": null,
      "metadata": {
        "id": "1E1YHq8Kc1z-"
      },
      "outputs": [],
      "source": [
        "# minimal example\n",
        "from skopt import BayesSearchCV\n",
        "from skopt.space import Integer, Categorical, Real\n",
        "from sklearn.model_selection import train_test_split\n",
        "from sklearn.neural_network import MLPRegressor\n",
        "from sklearn.base import BaseEstimator, RegressorMixin\n",
        "import itertools\n",
        "\n",
        "# Ugly wrapper around MLPRegressor; The ugliness is to make parameters of the estimator be recognized properly\n",
        "class MLPWrapper(BaseEstimator, RegressorMixin):\n",
        "    def __init__(self, layers=1, nodes=10, activation='logistic', solver='lbfgs', alpha='10**-5', batch_size=200, learning_rate='constant', learning_rate_init=10**-5):\n",
        "        self.layers = layers\n",
        "        self.nodes = nodes\n",
        "        self.activation = activation\n",
        "        self.solver = solver\n",
        "        self.alpha = alpha\n",
        "        self.batch_size = batch_size\n",
        "        self.learning_rate = learning_rate\n",
        "        self.learning_rate_init = learning_rate_init\n",
        "\n",
        "    def fit(self, X, y):\n",
        "        hidden_layer = (self.nodes,)*self.layers\n",
        "        model = MLPRegressor(\n",
        "            hidden_layer_sizes=hidden_layer,\n",
        "            solver=self.solver,\n",
        "            alpha=self.alpha,\n",
        "            batch_size=self.batch_size,\n",
        "            learning_rate=self.learning_rate,\n",
        "            learning_rate_init=self.learning_rate_init,\n",
        "            random_state=42,\n",
        "            verbose=False\n",
        "        )\n",
        "\n",
        "        model.fit(X, y)\n",
        "        self.model = model\n",
        "        return self\n",
        "\n",
        "    def predict(self, X):\n",
        "        return self.model.predict(X)\n",
        "\n",
        "    def score(self, X, y):\n",
        "        return cross_val_score(self.model, X, y, cv=kf, scoring=\"neg_mean_squared_error\", n_jobs=-1).mean()\n",
        "\n",
        "for random_state in range(5):\n",
        "    reg = BayesSearchCV(\n",
        "        estimator=MLPWrapper(),\n",
        "        search_spaces={\n",
        "            'layers': Categorical([1, 2]),\n",
        "            'nodes': Categorical([10, 20, 30, 40, 50]),\n",
        "            'activation': Categorical(['logistic', 'tanh', 'relu'], name='activation'),\n",
        "            'solver': Categorical(['adam'], name='solver'),\n",
        "            'alpha': Real(0.00001, 0.9999999, 'uniform', name='alpha'),\n",
        "            'batch_size': Integer(2, 300, name='batch_size'),\n",
        "            'learning_rate': Categorical(['constant', 'invscaling', 'adaptive'], name='learning_rate'),\n",
        "            'learning_rate_init': Real(0.00001, 0.9999999, 'uniform', name='learning_rate_init')\n",
        "        },\n",
        "        n_iter=100,\n",
        "        random_state=random_state\n",
        "    )\n",
        "\n",
        "    reg.fit(train_data, train_targets)\n",
        "\n",
        "    reg_test_score = mean_squared_error(test_targets, reg.predict(test_data))\n",
        "    all_test_scores.append(reg_test_score)\n",
        "\n",
        "    print(\"Best MSE {:.3f} params {}\".format(-reg.best_score_, reg.best_params_))\n",
        "\n",
        "    all_val_scores.append(calculate_min(-reg.cv_results_['mean_test_score']))\n",
        "    print(all_val_scores)\n"
      ]
    },
    {
      "cell_type": "code",
      "source": [
        "df = pd.DataFrame(all_val_scores).transpose()\n",
        "df.to_csv('full_results.csv', index=False)"
      ],
      "metadata": {
        "id": "JmHpgK1bA8_W"
      },
      "execution_count": null,
      "outputs": []
    },
    {
      "cell_type": "code",
      "source": [
        "mean_std = []\n",
        "for row_index in range(len(df)):\n",
        "    row_np = df.iloc[row_index,:].to_numpy()\n",
        "    mean_row = np.mean(row_np)\n",
        "    std_row = np.std(row_np)\n",
        "    mean_std.append((mean_row, std_row))\n",
        "mean_std"
      ],
      "metadata": {
        "id": "WSH7BbI7A_U5"
      },
      "execution_count": null,
      "outputs": []
    },
    {
      "cell_type": "code",
      "source": [
        "final_df = pd.DataFrame(mean_std, columns=['Mean', 'Std'])\n",
        "final_df"
      ],
      "metadata": {
        "id": "1Ze84HAiBAcU"
      },
      "execution_count": null,
      "outputs": []
    },
    {
      "cell_type": "code",
      "source": [
        "final_df.to_csv('GP - Final Results.csv', index=False)"
      ],
      "metadata": {
        "id": "YadZKal8BCCi"
      },
      "execution_count": null,
      "outputs": []
    },
    {
      "cell_type": "code",
      "source": [
        "test_df = pd.DataFrame(all_test_scores, columns=['Test scores'])\n",
        "test_df.to_csv('GP - Test scores.csv', index=False)"
      ],
      "metadata": {
        "id": "HvZu2Z1dBDZJ"
      },
      "execution_count": null,
      "outputs": []
    }
  ],
  "metadata": {
    "colab": {
      "collapsed_sections": [],
      "name": "AML - (GP).ipynb",
      "provenance": []
    },
    "kernelspec": {
      "display_name": "Python 3",
      "name": "python3"
    },
    "language_info": {
      "name": "python"
    }
  },
  "nbformat": 4,
  "nbformat_minor": 0
}