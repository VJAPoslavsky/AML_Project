{
 "cells": [
  {
   "cell_type": "code",
   "execution_count": 1,
   "metadata": {
    "colab": {
     "base_uri": "https://localhost:8080/"
    },
    "id": "RVx7o_am0Ebv",
    "outputId": "b056489e-4d45-4277-e6ff-4a5c91a228fc"
   },
   "outputs": [
    {
     "name": "stdout",
     "output_type": "stream",
     "text": [
      "Requirement already satisfied: keras-tuner in c:\\users\\julien\\appdata\\local\\programs\\python\\python39\\lib\\site-packages (1.1.0)\n",
      "Requirement already satisfied: scipy in c:\\users\\julien\\appdata\\local\\programs\\python\\python39\\lib\\site-packages (from keras-tuner) (1.7.1)\n",
      "Requirement already satisfied: ipython in c:\\users\\julien\\appdata\\local\\programs\\python\\python39\\lib\\site-packages (from keras-tuner) (7.27.0)\n",
      "Requirement already satisfied: kt-legacy in c:\\users\\julien\\appdata\\local\\programs\\python\\python39\\lib\\site-packages (from keras-tuner) (1.0.4)\n",
      "Requirement already satisfied: tensorboard in c:\\users\\julien\\appdata\\local\\programs\\python\\python39\\lib\\site-packages (from keras-tuner) (2.7.0)\n",
      "Requirement already satisfied: requests in c:\\users\\julien\\appdata\\local\\programs\\python\\python39\\lib\\site-packages (from keras-tuner) (2.26.0)\n",
      "Requirement already satisfied: packaging in c:\\users\\julien\\appdata\\local\\programs\\python\\python39\\lib\\site-packages (from keras-tuner) (21.0)\n",
      "Requirement already satisfied: numpy in c:\\users\\julien\\appdata\\local\\programs\\python\\python39\\lib\\site-packages (from keras-tuner) (1.21.2)\n",
      "Requirement already satisfied: backcall in c:\\users\\julien\\appdata\\local\\programs\\python\\python39\\lib\\site-packages (from ipython->keras-tuner) (0.2.0)\n",
      "Requirement already satisfied: pickleshare in c:\\users\\julien\\appdata\\local\\programs\\python\\python39\\lib\\site-packages (from ipython->keras-tuner) (0.7.5)\n",
      "Requirement already satisfied: colorama in c:\\users\\julien\\appdata\\local\\programs\\python\\python39\\lib\\site-packages (from ipython->keras-tuner) (0.4.4)\n",
      "Requirement already satisfied: pygments in c:\\users\\julien\\appdata\\local\\programs\\python\\python39\\lib\\site-packages (from ipython->keras-tuner) (2.10.0)\n",
      "Requirement already satisfied: jedi>=0.16 in c:\\users\\julien\\appdata\\local\\programs\\python\\python39\\lib\\site-packages (from ipython->keras-tuner) (0.18.0)\n",
      "Requirement already satisfied: traitlets>=4.2 in c:\\users\\julien\\appdata\\local\\programs\\python\\python39\\lib\\site-packages (from ipython->keras-tuner) (5.1.0)\n",
      "Requirement already satisfied: prompt-toolkit!=3.0.0,!=3.0.1,<3.1.0,>=2.0.0 in c:\\users\\julien\\appdata\\local\\programs\\python\\python39\\lib\\site-packages (from ipython->keras-tuner) (3.0.20)\n",
      "Requirement already satisfied: matplotlib-inline in c:\\users\\julien\\appdata\\local\\programs\\python\\python39\\lib\\site-packages (from ipython->keras-tuner) (0.1.3)\n",
      "Requirement already satisfied: decorator in c:\\users\\julien\\appdata\\local\\programs\\python\\python39\\lib\\site-packages (from ipython->keras-tuner) (5.1.0)\n",
      "Requirement already satisfied: setuptools>=18.5 in c:\\users\\julien\\appdata\\local\\programs\\python\\python39\\lib\\site-packages (from ipython->keras-tuner) (49.2.1)\n",
      "Requirement already satisfied: pyparsing>=2.0.2 in c:\\users\\julien\\appdata\\local\\programs\\python\\python39\\lib\\site-packages (from packaging->keras-tuner) (2.4.7)\n",
      "Requirement already satisfied: urllib3<1.27,>=1.21.1 in c:\\users\\julien\\appdata\\local\\programs\\python\\python39\\lib\\site-packages (from requests->keras-tuner) (1.26.6)\n",
      "Requirement already satisfied: certifi>=2017.4.17 in c:\\users\\julien\\appdata\\local\\programs\\python\\python39\\lib\\site-packages (from requests->keras-tuner) (2021.5.30)\n",
      "Requirement already satisfied: idna<4,>=2.5 in c:\\users\\julien\\appdata\\local\\programs\\python\\python39\\lib\\site-packages (from requests->keras-tuner) (3.2)\n",
      "Requirement already satisfied: charset-normalizer~=2.0.0 in c:\\users\\julien\\appdata\\local\\programs\\python\\python39\\lib\\site-packages (from requests->keras-tuner) (2.0.5)\n",
      "Requirement already satisfied: absl-py>=0.4 in c:\\users\\julien\\appdata\\local\\programs\\python\\python39\\lib\\site-packages (from tensorboard->keras-tuner) (0.15.0)\n",
      "Requirement already satisfied: tensorboard-data-server<0.7.0,>=0.6.0 in c:\\users\\julien\\appdata\\local\\programs\\python\\python39\\lib\\site-packages (from tensorboard->keras-tuner) (0.6.1)\n",
      "Requirement already satisfied: google-auth<3,>=1.6.3 in c:\\users\\julien\\appdata\\local\\programs\\python\\python39\\lib\\site-packages (from tensorboard->keras-tuner) (2.3.3)\n",
      "Requirement already satisfied: markdown>=2.6.8 in c:\\users\\julien\\appdata\\local\\programs\\python\\python39\\lib\\site-packages (from tensorboard->keras-tuner) (3.3.4)\n",
      "Requirement already satisfied: protobuf>=3.6.0 in c:\\users\\julien\\appdata\\local\\programs\\python\\python39\\lib\\site-packages (from tensorboard->keras-tuner) (3.19.1)\n",
      "Requirement already satisfied: tensorboard-plugin-wit>=1.6.0 in c:\\users\\julien\\appdata\\local\\programs\\python\\python39\\lib\\site-packages (from tensorboard->keras-tuner) (1.8.0)\n",
      "Requirement already satisfied: google-auth-oauthlib<0.5,>=0.4.1 in c:\\users\\julien\\appdata\\local\\programs\\python\\python39\\lib\\site-packages (from tensorboard->keras-tuner) (0.4.6)\n",
      "Requirement already satisfied: grpcio>=1.24.3 in c:\\users\\julien\\appdata\\local\\programs\\python\\python39\\lib\\site-packages (from tensorboard->keras-tuner) (1.41.1)\n",
      "Requirement already satisfied: wheel>=0.26 in c:\\users\\julien\\appdata\\local\\programs\\python\\python39\\lib\\site-packages (from tensorboard->keras-tuner) (0.37.0)\n",
      "Requirement already satisfied: werkzeug>=0.11.15 in c:\\users\\julien\\appdata\\local\\programs\\python\\python39\\lib\\site-packages (from tensorboard->keras-tuner) (2.0.2)\n",
      "Requirement already satisfied: six in c:\\users\\julien\\appdata\\local\\programs\\python\\python39\\lib\\site-packages (from absl-py>=0.4->tensorboard->keras-tuner) (1.16.0)\n",
      "Requirement already satisfied: pyasn1-modules>=0.2.1 in c:\\users\\julien\\appdata\\local\\programs\\python\\python39\\lib\\site-packages (from google-auth<3,>=1.6.3->tensorboard->keras-tuner) (0.2.8)\n",
      "Requirement already satisfied: rsa<5,>=3.1.4 in c:\\users\\julien\\appdata\\local\\programs\\python\\python39\\lib\\site-packages (from google-auth<3,>=1.6.3->tensorboard->keras-tuner) (4.7.2)\n",
      "Requirement already satisfied: cachetools<5.0,>=2.0.0 in c:\\users\\julien\\appdata\\local\\programs\\python\\python39\\lib\\site-packages (from google-auth<3,>=1.6.3->tensorboard->keras-tuner) (4.2.4)\n",
      "Requirement already satisfied: requests-oauthlib>=0.7.0 in c:\\users\\julien\\appdata\\local\\programs\\python\\python39\\lib\\site-packages (from google-auth-oauthlib<0.5,>=0.4.1->tensorboard->keras-tuner) (1.3.0)\n",
      "Requirement already satisfied: parso<0.9.0,>=0.8.0 in c:\\users\\julien\\appdata\\local\\programs\\python\\python39\\lib\\site-packages (from jedi>=0.16->ipython->keras-tuner) (0.8.2)\n",
      "Requirement already satisfied: wcwidth in c:\\users\\julien\\appdata\\local\\programs\\python\\python39\\lib\\site-packages (from prompt-toolkit!=3.0.0,!=3.0.1,<3.1.0,>=2.0.0->ipython->keras-tuner) (0.2.5)\n",
      "Requirement already satisfied: pyasn1<0.5.0,>=0.4.6 in c:\\users\\julien\\appdata\\local\\programs\\python\\python39\\lib\\site-packages (from pyasn1-modules>=0.2.1->google-auth<3,>=1.6.3->tensorboard->keras-tuner) (0.4.8)\n",
      "Requirement already satisfied: oauthlib>=3.0.0 in c:\\users\\julien\\appdata\\local\\programs\\python\\python39\\lib\\site-packages (from requests-oauthlib>=0.7.0->google-auth-oauthlib<0.5,>=0.4.1->tensorboard->keras-tuner) (3.1.1)\n"
     ]
    }
   ],
   "source": [
    "!pip install keras-tuner"
   ]
  },
  {
   "cell_type": "code",
   "execution_count": 2,
   "metadata": {
    "id": "LokZROpK0HJA"
   },
   "outputs": [
    {
     "name": "stdout",
     "output_type": "stream",
     "text": [
      "Num GPUs: 1\n"
     ]
    }
   ],
   "source": [
    "import tensorflow as tf\n",
    "import keras_tuner\n",
    "import matplotlib.pyplot as plt\n",
    "from tensorflow import keras\n",
    "from keras import backend as K\n",
    "from keras.models import Sequential, Model\n",
    "from keras.layers import Conv2D, MaxPooling2D, Flatten, Dense, BatchNormalization, Dropout, Input\n",
    "from keras_tuner.tuners import RandomSearch, BayesianOptimization, Hyperband\n",
    "from hyperopt import fmin, tpe, hp, anneal, Trials, space_eval\n",
    "\n",
    "physical_devices = tf.config.list_physical_devices('GPU')\n",
    "print(\"Num GPUs:\", len(physical_devices))"
   ]
  },
  {
   "cell_type": "code",
   "execution_count": 3,
   "metadata": {
    "id": "egY50tUy0M55"
   },
   "outputs": [],
   "source": [
    "dataset = 'mnist'\n",
    "\n",
    "if dataset == 'mnist':\n",
    "    # Load the data\n",
    "    (x_train, y_train), (x_test, y_test) = keras.datasets.mnist.load_data()\n",
    "    img_rows, img_cols = 28, 28\n",
    "    num_classes = 10\n",
    "    channel = 1\n",
    "elif dataset == 'cifar10':\n",
    "    (x_train, y_train), (x_test, y_test) = keras.datasets.cifar10.load_data()\n",
    "    img_rows, img_cols = 32, 32\n",
    "    num_classes = 10\n",
    "    channel = 3\n",
    "\n",
    "# Add the channel dimension to the images\n",
    "if K.image_data_format() == 'channels_first':\n",
    "    x_train = x_train.reshape(x_train.shape[0], channel, img_rows, img_cols)\n",
    "    x_test = x_test.reshape(x_test.shape[0], channel, img_rows, img_cols)\n",
    "    input_shape = (channel, img_rows, img_cols)\n",
    "else:\n",
    "    x_train = x_train.reshape(x_train.shape[0], img_rows, img_cols, channel)\n",
    "    x_test = x_test.reshape(x_test.shape[0], img_rows, img_cols, channel)\n",
    "    input_shape = (img_rows, img_cols, channel)\n",
    "\n",
    "# Normalize the pixel values to the range of [0, 1]\n",
    "x_train = x_train.astype('float32') / 255\n",
    "x_test = x_test.astype('float32') / 255\n",
    "\n",
    "# convert class vectors to binary class matrices\n",
    "y_train = tf.keras.utils.to_categorical(y_train, num_classes)\n",
    "y_test = tf.keras.utils.to_categorical(y_test, num_classes)\n",
    "    "
   ]
  },
  {
   "cell_type": "code",
   "execution_count": 4,
   "metadata": {
    "id": "x9nnIrd61Tb6"
   },
   "outputs": [],
   "source": [
    "# Our CNN model\n",
    "def build_model(hp):\n",
    "    model = Sequential()\n",
    "    hp_layers = hp.Choice('layers', values=[1, 2])\n",
    "    hp_dropout = hp.Float('dropout', 0, 0.5, step=0.1)\n",
    "    hp_lr = hp.Float('learning_rate', 0.0001, 0.005, step=0.001)\n",
    "    hp_filters1 = hp.Int('filters_input_layer', min_value=32, max_value=128, step=32)\n",
    "\n",
    "    # Input layer\n",
    "    model.add(Conv2D(filters=hp_filters1, kernel_size=3, activation='relu', input_shape=input_shape))\n",
    "    model.add(BatchNormalization())\n",
    "\n",
    "    for i in range(hp_layers):\n",
    "        hp_filters2 = hp.Int(f'filters_conv_layer{i}', min_value=32, max_value=128, step=32)\n",
    "        model.add(Conv2D(filters=hp_filters2, kernel_size=3, activation='relu'))\n",
    "        model.add(BatchNormalization())\n",
    "        model.add(MaxPooling2D((2,2)))\n",
    "        model.add(Dropout(hp_dropout))\n",
    "\n",
    "    model.add(Flatten())\n",
    "    model.add(Dense(num_classes, activation='softmax'))\n",
    "\n",
    "    # Compile model\n",
    "    optimizer = keras.optimizers.Adam(learning_rate=hp_lr)\n",
    "    model.compile(optimizer=optimizer, loss='categorical_crossentropy', metrics=['accuracy'])\n",
    "    return model"
   ]
  },
  {
   "cell_type": "markdown",
   "metadata": {
    "id": "qCq4F7DqBH6k"
   },
   "source": [
    "# Random Search"
   ]
  },
  {
   "cell_type": "code",
   "execution_count": 5,
   "metadata": {
    "colab": {
     "base_uri": "https://localhost:8080/"
    },
    "id": "gtgLORmY5WNA",
    "outputId": "76da619c-2caf-4d7f-e50c-be03e8430f23"
   },
   "outputs": [
    {
     "name": "stdout",
     "output_type": "stream",
     "text": [
      "Search space summary\n",
      "Default search space size: 5\n",
      "layers (Choice)\n",
      "{'default': 1, 'conditions': [], 'values': [1, 2], 'ordered': True}\n",
      "dropout (Float)\n",
      "{'default': 0.0, 'conditions': [], 'min_value': 0.0, 'max_value': 0.5, 'step': 0.1, 'sampling': None}\n",
      "learning_rate (Float)\n",
      "{'default': 0.0001, 'conditions': [], 'min_value': 0.0001, 'max_value': 0.005, 'step': 0.001, 'sampling': None}\n",
      "filters_input_layer (Int)\n",
      "{'default': None, 'conditions': [], 'min_value': 32, 'max_value': 128, 'step': 32, 'sampling': None}\n",
      "filters_conv_layer0 (Int)\n",
      "{'default': None, 'conditions': [], 'min_value': 32, 'max_value': 128, 'step': 32, 'sampling': None}\n"
     ]
    }
   ],
   "source": [
    "RS_tuner = RandomSearch(build_model, max_trials=10, executions_per_trial=1, overwrite=True, objective=\"val_accuracy\", directory=\"/tmp/tb\", seed=1)\n",
    "RS_tuner.search_space_summary()"
   ]
  },
  {
   "cell_type": "code",
   "execution_count": 6,
   "metadata": {
    "colab": {
     "base_uri": "https://localhost:8080/"
    },
    "id": "wAatIZJW5-Kl",
    "outputId": "ca0b2200-c837-4013-938f-ecf4b7958475"
   },
   "outputs": [
    {
     "name": "stdout",
     "output_type": "stream",
     "text": [
      "Trial 10 Complete [00h 05m 16s]\n",
      "val_accuracy: 0.9938333630561829\n",
      "\n",
      "Best val_accuracy So Far: 0.9946666955947876\n",
      "Total elapsed time: 00h 53m 38s\n",
      "INFO:tensorflow:Oracle triggered exit\n"
     ]
    }
   ],
   "source": [
    "RS_tuner.search(x_train, y_train, epochs=50, validation_split=0.2)"
   ]
  },
  {
   "cell_type": "code",
   "execution_count": 7,
   "metadata": {
    "colab": {
     "base_uri": "https://localhost:8080/"
    },
    "id": "Es5g0DUj6I9X",
    "outputId": "85af0304-739f-43b7-9952-8e7045828077"
   },
   "outputs": [
    {
     "name": "stdout",
     "output_type": "stream",
     "text": [
      "Results summary\n",
      "Results in /tmp/tb\\untitled_project\n",
      "Showing 10 best trials\n",
      "Objective(name='val_accuracy', direction='max')\n",
      "Trial summary\n",
      "Hyperparameters:\n",
      "layers: 2\n",
      "dropout: 0.30000000000000004\n",
      "learning_rate: 0.0011\n",
      "filters_input_layer: 96\n",
      "filters_conv_layer0: 128\n",
      "filters_conv_layer1: 32\n",
      "Score: 0.9946666955947876\n",
      "Trial summary\n",
      "Hyperparameters:\n",
      "layers: 2\n",
      "dropout: 0.30000000000000004\n",
      "learning_rate: 0.0021\n",
      "filters_input_layer: 96\n",
      "filters_conv_layer0: 96\n",
      "filters_conv_layer1: 64\n",
      "Score: 0.9938333630561829\n",
      "Trial summary\n",
      "Hyperparameters:\n",
      "layers: 2\n",
      "dropout: 0.30000000000000004\n",
      "learning_rate: 0.0041\n",
      "filters_input_layer: 32\n",
      "filters_conv_layer0: 128\n",
      "filters_conv_layer1: 32\n",
      "Score: 0.9938333630561829\n",
      "Trial summary\n",
      "Hyperparameters:\n",
      "layers: 2\n",
      "dropout: 0.2\n",
      "learning_rate: 0.0031\n",
      "filters_input_layer: 32\n",
      "filters_conv_layer0: 64\n",
      "filters_conv_layer1: 64\n",
      "Score: 0.9931666851043701\n",
      "Trial summary\n",
      "Hyperparameters:\n",
      "layers: 2\n",
      "dropout: 0.2\n",
      "learning_rate: 0.0011\n",
      "filters_input_layer: 32\n",
      "filters_conv_layer0: 128\n",
      "filters_conv_layer1: 32\n",
      "Score: 0.9929166436195374\n",
      "Trial summary\n",
      "Hyperparameters:\n",
      "layers: 1\n",
      "dropout: 0.2\n",
      "learning_rate: 0.0011\n",
      "filters_input_layer: 64\n",
      "filters_conv_layer0: 96\n",
      "Score: 0.9904999732971191\n",
      "Trial summary\n",
      "Hyperparameters:\n",
      "layers: 1\n",
      "dropout: 0.5\n",
      "learning_rate: 0.0011\n",
      "filters_input_layer: 64\n",
      "filters_conv_layer0: 96\n",
      "Score: 0.9900833368301392\n",
      "Trial summary\n",
      "Hyperparameters:\n",
      "layers: 1\n",
      "dropout: 0.5\n",
      "learning_rate: 0.0031\n",
      "filters_input_layer: 64\n",
      "filters_conv_layer0: 96\n",
      "filters_conv_layer1: 96\n",
      "Score: 0.9898333549499512\n",
      "Trial summary\n",
      "Hyperparameters:\n",
      "layers: 1\n",
      "dropout: 0.30000000000000004\n",
      "learning_rate: 0.0031\n",
      "filters_input_layer: 32\n",
      "filters_conv_layer0: 32\n",
      "filters_conv_layer1: 96\n",
      "Score: 0.9892500042915344\n",
      "Trial summary\n",
      "Hyperparameters:\n",
      "layers: 1\n",
      "dropout: 0.2\n",
      "learning_rate: 0.0031\n",
      "filters_input_layer: 32\n",
      "filters_conv_layer0: 64\n",
      "filters_conv_layer1: 64\n",
      "Score: 0.9884999990463257\n"
     ]
    }
   ],
   "source": [
    "RS_tuner.results_summary()"
   ]
  },
  {
   "cell_type": "code",
   "execution_count": 8,
   "metadata": {
    "colab": {
     "base_uri": "https://localhost:8080/"
    },
    "id": "ouzv0BrB6Lul",
    "outputId": "19490001-d713-4218-d09a-39c7ce09ea49"
   },
   "outputs": [
    {
     "name": "stdout",
     "output_type": "stream",
     "text": [
      "{'layers': 2, 'dropout': 0.30000000000000004, 'learning_rate': 0.0011, 'filters_input_layer': 96, 'filters_conv_layer0': 128, 'filters_conv_layer1': 32}\n"
     ]
    }
   ],
   "source": [
    "best_hp = RS_tuner.get_best_hyperparameters(1)[0]\n",
    "print(best_hp.values)"
   ]
  },
  {
   "cell_type": "code",
   "execution_count": 48,
   "metadata": {
    "colab": {
     "base_uri": "https://localhost:8080/"
    },
    "id": "wYi7Gyhx6puj",
    "outputId": "c224bc5f-0767-4ebb-f33e-8c8573591a2f"
   },
   "outputs": [
    {
     "name": "stdout",
     "output_type": "stream",
     "text": [
      "Epoch 1/10\n",
      "1875/1875 [==============================] - 9s 5ms/step - loss: 0.1886 - accuracy: 0.9455 - val_loss: 0.0470 - val_accuracy: 0.9839\n",
      "Epoch 2/10\n",
      "1875/1875 [==============================] - 8s 4ms/step - loss: 0.0810 - accuracy: 0.9754 - val_loss: 0.0375 - val_accuracy: 0.9884\n",
      "Epoch 3/10\n",
      "1875/1875 [==============================] - 9s 5ms/step - loss: 0.0729 - accuracy: 0.9772 - val_loss: 0.0430 - val_accuracy: 0.9867\n",
      "Epoch 4/10\n",
      "1875/1875 [==============================] - 9s 5ms/step - loss: 0.0668 - accuracy: 0.9793 - val_loss: 0.0351 - val_accuracy: 0.9879\n",
      "Epoch 5/10\n",
      "1875/1875 [==============================] - 9s 5ms/step - loss: 0.0609 - accuracy: 0.9807 - val_loss: 0.0327 - val_accuracy: 0.9893\n",
      "Epoch 6/10\n",
      "1875/1875 [==============================] - 9s 5ms/step - loss: 0.0568 - accuracy: 0.9824 - val_loss: 0.0303 - val_accuracy: 0.9896\n",
      "Epoch 7/10\n",
      "1875/1875 [==============================] - 9s 5ms/step - loss: 0.0537 - accuracy: 0.9836 - val_loss: 0.0317 - val_accuracy: 0.9905\n",
      "Epoch 8/10\n",
      "1875/1875 [==============================] - 9s 5ms/step - loss: 0.0525 - accuracy: 0.9838 - val_loss: 0.0255 - val_accuracy: 0.9916\n",
      "Epoch 9/10\n",
      "1875/1875 [==============================] - 9s 5ms/step - loss: 0.0507 - accuracy: 0.9844 - val_loss: 0.0298 - val_accuracy: 0.9909\n",
      "Epoch 10/10\n",
      "1875/1875 [==============================] - 9s 5ms/step - loss: 0.0483 - accuracy: 0.9854 - val_loss: 0.0267 - val_accuracy: 0.9904\n"
     ]
    }
   ],
   "source": [
    "# Build the model with the best hyperparameters\n",
    "model_RS = RS_tuner.hypermodel.build(best_hp)\n",
    "history = model_RS.fit(x_train, y_train, batch_size=32, epochs=10, validation_data=(x_test, y_test), verbose=1)"
   ]
  },
  {
   "cell_type": "code",
   "execution_count": 49,
   "metadata": {
    "id": "4jVCSkU4KjjI"
   },
   "outputs": [],
   "source": [
    "# Results RS\n",
    "RS_accuracy = history.history['val_accuracy']\n",
    "RS_loss = history.history['val_loss']\n",
    "RS_training_accuracy = history.history['accuracy']\n",
    "RS_training_loss = history.history['loss']"
   ]
  },
  {
   "cell_type": "markdown",
   "metadata": {
    "id": "TJPYbtm4LbLC"
   },
   "source": [
    "# Hyperband"
   ]
  },
  {
   "cell_type": "code",
   "execution_count": 22,
   "metadata": {
    "colab": {
     "base_uri": "https://localhost:8080/"
    },
    "id": "IY9wI6UVb5dM",
    "outputId": "2f3b5556-f883-426b-a91d-204a8f352d64"
   },
   "outputs": [
    {
     "name": "stdout",
     "output_type": "stream",
     "text": [
      "Search space summary\n",
      "Default search space size: 5\n",
      "layers (Choice)\n",
      "{'default': 1, 'conditions': [], 'values': [1, 2], 'ordered': True}\n",
      "dropout (Float)\n",
      "{'default': 0.0, 'conditions': [], 'min_value': 0.0, 'max_value': 0.5, 'step': 0.1, 'sampling': None}\n",
      "learning_rate (Float)\n",
      "{'default': 0.0001, 'conditions': [], 'min_value': 0.0001, 'max_value': 0.005, 'step': 0.001, 'sampling': None}\n",
      "filters_input_layer (Int)\n",
      "{'default': None, 'conditions': [], 'min_value': 32, 'max_value': 128, 'step': 32, 'sampling': None}\n",
      "filters_conv_layer0 (Int)\n",
      "{'default': None, 'conditions': [], 'min_value': 32, 'max_value': 128, 'step': 32, 'sampling': None}\n"
     ]
    }
   ],
   "source": [
    "HB_tuner = Hyperband(build_model, max_epochs=25, factor=3, executions_per_trial=1, overwrite=True, objective=\"val_accuracy\", directory=\"/tmp/tb\", seed=1)\n",
    "HB_tuner.search_space_summary()"
   ]
  },
  {
   "cell_type": "code",
   "execution_count": 23,
   "metadata": {
    "colab": {
     "base_uri": "https://localhost:8080/"
    },
    "id": "iGw2_YE0cLlu",
    "outputId": "fa4c765d-737b-4125-df10-c7ce5a16f30d"
   },
   "outputs": [
    {
     "name": "stdout",
     "output_type": "stream",
     "text": [
      "Trial 30 Complete [00h 02m 56s]\n",
      "val_accuracy: 0.9925000071525574\n",
      "\n",
      "Best val_accuracy So Far: 0.9928333163261414\n",
      "Total elapsed time: 00h 31m 07s\n",
      "INFO:tensorflow:Oracle triggered exit\n"
     ]
    }
   ],
   "source": [
    "HB_tuner.search(x_train, y_train, epochs=50, validation_split=0.2)"
   ]
  },
  {
   "cell_type": "code",
   "execution_count": 24,
   "metadata": {
    "colab": {
     "base_uri": "https://localhost:8080/"
    },
    "id": "TFfC4mPicMAg",
    "outputId": "0c2a8d21-9b07-4641-a21a-a6ef1ccbdada"
   },
   "outputs": [
    {
     "name": "stdout",
     "output_type": "stream",
     "text": [
      "Results summary\n",
      "Results in /tmp/tb\\untitled_project\n",
      "Showing 10 best trials\n",
      "Objective(name='val_accuracy', direction='max')\n",
      "Trial summary\n",
      "Hyperparameters:\n",
      "layers: 2\n",
      "dropout: 0.1\n",
      "learning_rate: 0.0011\n",
      "filters_input_layer: 64\n",
      "filters_conv_layer0: 128\n",
      "filters_conv_layer1: 96\n",
      "tuner/epochs: 25\n",
      "tuner/initial_epoch: 0\n",
      "tuner/bracket: 0\n",
      "tuner/round: 0\n",
      "Score: 0.9928333163261414\n",
      "Trial summary\n",
      "Hyperparameters:\n",
      "layers: 2\n",
      "dropout: 0.2\n",
      "learning_rate: 0.0031\n",
      "filters_input_layer: 32\n",
      "filters_conv_layer0: 64\n",
      "filters_conv_layer1: 64\n",
      "tuner/epochs: 25\n",
      "tuner/initial_epoch: 9\n",
      "tuner/bracket: 2\n",
      "tuner/round: 2\n",
      "tuner/trial_id: ec758034f3bfd624809040e2818dabb1\n",
      "Score: 0.9925833344459534\n",
      "Trial summary\n",
      "Hyperparameters:\n",
      "layers: 2\n",
      "dropout: 0.5\n",
      "learning_rate: 0.0031\n",
      "filters_input_layer: 32\n",
      "filters_conv_layer0: 128\n",
      "filters_conv_layer1: 96\n",
      "tuner/epochs: 25\n",
      "tuner/initial_epoch: 0\n",
      "tuner/bracket: 0\n",
      "tuner/round: 0\n",
      "Score: 0.9925000071525574\n",
      "Trial summary\n",
      "Hyperparameters:\n",
      "layers: 2\n",
      "dropout: 0.30000000000000004\n",
      "learning_rate: 0.0011\n",
      "filters_input_layer: 96\n",
      "filters_conv_layer0: 128\n",
      "filters_conv_layer1: 32\n",
      "tuner/epochs: 25\n",
      "tuner/initial_epoch: 9\n",
      "tuner/bracket: 2\n",
      "tuner/round: 2\n",
      "tuner/trial_id: 76674abdbf2026a8392344960e14db29\n",
      "Score: 0.9923333525657654\n",
      "Trial summary\n",
      "Hyperparameters:\n",
      "layers: 2\n",
      "dropout: 0.0\n",
      "learning_rate: 0.0011\n",
      "filters_input_layer: 128\n",
      "filters_conv_layer0: 96\n",
      "filters_conv_layer1: 64\n",
      "tuner/epochs: 25\n",
      "tuner/initial_epoch: 0\n",
      "tuner/bracket: 0\n",
      "tuner/round: 0\n",
      "Score: 0.9920833110809326\n",
      "Trial summary\n",
      "Hyperparameters:\n",
      "layers: 2\n",
      "dropout: 0.4\n",
      "learning_rate: 0.0041\n",
      "filters_input_layer: 32\n",
      "filters_conv_layer0: 64\n",
      "filters_conv_layer1: 96\n",
      "tuner/epochs: 25\n",
      "tuner/initial_epoch: 9\n",
      "tuner/bracket: 1\n",
      "tuner/round: 1\n",
      "tuner/trial_id: 35e2e1a04b5481fabbb0a83bad7a8346\n",
      "Score: 0.9913333058357239\n",
      "Trial summary\n",
      "Hyperparameters:\n",
      "layers: 2\n",
      "dropout: 0.0\n",
      "learning_rate: 0.0011\n",
      "filters_input_layer: 32\n",
      "filters_conv_layer0: 64\n",
      "filters_conv_layer1: 128\n",
      "tuner/epochs: 25\n",
      "tuner/initial_epoch: 9\n",
      "tuner/bracket: 1\n",
      "tuner/round: 1\n",
      "tuner/trial_id: 74fdd1f8cdbac2ae7ce5ed1792c659db\n",
      "Score: 0.9912499785423279\n",
      "Trial summary\n",
      "Hyperparameters:\n",
      "layers: 2\n",
      "dropout: 0.30000000000000004\n",
      "learning_rate: 0.0011\n",
      "filters_input_layer: 96\n",
      "filters_conv_layer0: 128\n",
      "filters_conv_layer1: 32\n",
      "tuner/epochs: 9\n",
      "tuner/initial_epoch: 3\n",
      "tuner/bracket: 2\n",
      "tuner/round: 1\n",
      "tuner/trial_id: f19409ad6a849a96d731cdfec84e2177\n",
      "Score: 0.9908333420753479\n",
      "Trial summary\n",
      "Hyperparameters:\n",
      "layers: 2\n",
      "dropout: 0.2\n",
      "learning_rate: 0.0031\n",
      "filters_input_layer: 32\n",
      "filters_conv_layer0: 64\n",
      "filters_conv_layer1: 64\n",
      "tuner/epochs: 9\n",
      "tuner/initial_epoch: 3\n",
      "tuner/bracket: 2\n",
      "tuner/round: 1\n",
      "tuner/trial_id: 8ec0a760460c02d58d6cc0cc8aa9d6d5\n",
      "Score: 0.9903333187103271\n",
      "Trial summary\n",
      "Hyperparameters:\n",
      "layers: 2\n",
      "dropout: 0.4\n",
      "learning_rate: 0.0041\n",
      "filters_input_layer: 32\n",
      "filters_conv_layer0: 64\n",
      "filters_conv_layer1: 96\n",
      "tuner/epochs: 9\n",
      "tuner/initial_epoch: 0\n",
      "tuner/bracket: 1\n",
      "tuner/round: 0\n",
      "Score: 0.9899166822433472\n"
     ]
    }
   ],
   "source": [
    "HB_tuner.results_summary()"
   ]
  },
  {
   "cell_type": "code",
   "execution_count": 25,
   "metadata": {
    "colab": {
     "base_uri": "https://localhost:8080/"
    },
    "id": "8Qjy349XcOW0",
    "outputId": "a214dca5-70ae-41da-99cd-00a5ed523f9e"
   },
   "outputs": [
    {
     "name": "stdout",
     "output_type": "stream",
     "text": [
      "{'layers': 2, 'dropout': 0.1, 'learning_rate': 0.0011, 'filters_input_layer': 64, 'filters_conv_layer0': 128, 'filters_conv_layer1': 96, 'tuner/epochs': 25, 'tuner/initial_epoch': 0, 'tuner/bracket': 0, 'tuner/round': 0}\n"
     ]
    }
   ],
   "source": [
    "best_hp = HB_tuner.get_best_hyperparameters(1)[0]\n",
    "print(best_hp.values)"
   ]
  },
  {
   "cell_type": "code",
   "execution_count": 50,
   "metadata": {
    "colab": {
     "base_uri": "https://localhost:8080/"
    },
    "id": "9TslSGpjcQhz",
    "outputId": "756d39b7-0d13-4650-b8ee-3a6ec8707815"
   },
   "outputs": [
    {
     "name": "stdout",
     "output_type": "stream",
     "text": [
      "Epoch 1/10\n",
      "1875/1875 [==============================] - 10s 5ms/step - loss: 0.1871 - accuracy: 0.9477 - val_loss: 0.0490 - val_accuracy: 0.9835\n",
      "Epoch 2/10\n",
      "1875/1875 [==============================] - 9s 5ms/step - loss: 0.0808 - accuracy: 0.9748 - val_loss: 0.0371 - val_accuracy: 0.9868\n",
      "Epoch 3/10\n",
      "1875/1875 [==============================] - 9s 5ms/step - loss: 0.0718 - accuracy: 0.9776 - val_loss: 0.0326 - val_accuracy: 0.9893\n",
      "Epoch 4/10\n",
      "1875/1875 [==============================] - 9s 5ms/step - loss: 0.0634 - accuracy: 0.9800 - val_loss: 0.0326 - val_accuracy: 0.9890\n",
      "Epoch 5/10\n",
      "1875/1875 [==============================] - 9s 5ms/step - loss: 0.0617 - accuracy: 0.9804 - val_loss: 0.0316 - val_accuracy: 0.9889\n",
      "Epoch 6/10\n",
      "1875/1875 [==============================] - 9s 5ms/step - loss: 0.0583 - accuracy: 0.9823 - val_loss: 0.0314 - val_accuracy: 0.9895\n",
      "Epoch 7/10\n",
      "1875/1875 [==============================] - 9s 5ms/step - loss: 0.0529 - accuracy: 0.9838 - val_loss: 0.0275 - val_accuracy: 0.9903\n",
      "Epoch 8/10\n",
      "1875/1875 [==============================] - 9s 5ms/step - loss: 0.0532 - accuracy: 0.9835 - val_loss: 0.0296 - val_accuracy: 0.9908\n",
      "Epoch 9/10\n",
      "1875/1875 [==============================] - 9s 5ms/step - loss: 0.0497 - accuracy: 0.9841 - val_loss: 0.0245 - val_accuracy: 0.9915\n",
      "Epoch 10/10\n",
      "1875/1875 [==============================] - 9s 5ms/step - loss: 0.0479 - accuracy: 0.9855 - val_loss: 0.0342 - val_accuracy: 0.9895\n"
     ]
    }
   ],
   "source": [
    "# Build the model with the best hyperparameters\n",
    "model_HB = HB_tuner.hypermodel.build(best_hp)\n",
    "history = model_HB.fit(x_train, y_train, batch_size=32, epochs=10, validation_data=(x_test, y_test), verbose=1)"
   ]
  },
  {
   "cell_type": "code",
   "execution_count": 51,
   "metadata": {
    "id": "eTYkeB-ES_bP"
   },
   "outputs": [],
   "source": [
    "# Results Hyperband\n",
    "HP_accuracy = history.history['val_accuracy']\n",
    "HP_loss = history.history['val_loss']\n",
    "HP_training_accuracy = history.history['accuracy']\n",
    "HP_training_loss = history.history['loss']"
   ]
  },
  {
   "cell_type": "markdown",
   "metadata": {
    "id": "FbY5qLsGTKTt"
   },
   "source": [
    "# Gaussian Process"
   ]
  },
  {
   "cell_type": "code",
   "execution_count": 28,
   "metadata": {
    "colab": {
     "base_uri": "https://localhost:8080/"
    },
    "id": "XfmNQ6sHmYHW",
    "outputId": "ad8f44c1-4ee7-4664-e746-5bcb8688492f"
   },
   "outputs": [
    {
     "name": "stdout",
     "output_type": "stream",
     "text": [
      "Search space summary\n",
      "Default search space size: 5\n",
      "layers (Choice)\n",
      "{'default': 1, 'conditions': [], 'values': [1, 2], 'ordered': True}\n",
      "dropout (Float)\n",
      "{'default': 0.0, 'conditions': [], 'min_value': 0.0, 'max_value': 0.5, 'step': 0.1, 'sampling': None}\n",
      "learning_rate (Float)\n",
      "{'default': 0.0001, 'conditions': [], 'min_value': 0.0001, 'max_value': 0.005, 'step': 0.001, 'sampling': None}\n",
      "filters_input_layer (Int)\n",
      "{'default': None, 'conditions': [], 'min_value': 32, 'max_value': 128, 'step': 32, 'sampling': None}\n",
      "filters_conv_layer0 (Int)\n",
      "{'default': None, 'conditions': [], 'min_value': 32, 'max_value': 128, 'step': 32, 'sampling': None}\n"
     ]
    }
   ],
   "source": [
    "GP_tuner = BayesianOptimization(build_model, max_trials=10, executions_per_trial=1, overwrite=True, objective=\"val_accuracy\", directory=\"/tmp/tb\", seed=1)\n",
    "GP_tuner.search_space_summary()"
   ]
  },
  {
   "cell_type": "code",
   "execution_count": 29,
   "metadata": {
    "colab": {
     "base_uri": "https://localhost:8080/"
    },
    "id": "s7W-nGrbmjC-",
    "outputId": "fa802ab3-72ec-4c21-f002-b983168d19bc"
   },
   "outputs": [
    {
     "name": "stdout",
     "output_type": "stream",
     "text": [
      "Trial 10 Complete [00h 06m 01s]\n",
      "val_accuracy: 0.9941666722297668\n",
      "\n",
      "Best val_accuracy So Far: 0.9941666722297668\n",
      "Total elapsed time: 00h 59m 09s\n",
      "INFO:tensorflow:Oracle triggered exit\n"
     ]
    }
   ],
   "source": [
    "GP_tuner.search(x_train, y_train, epochs=50, validation_split=0.2)"
   ]
  },
  {
   "cell_type": "code",
   "execution_count": 30,
   "metadata": {
    "colab": {
     "base_uri": "https://localhost:8080/"
    },
    "id": "Ryy7hgafmmMt",
    "outputId": "ed72d90f-2331-492b-c5ba-daf2b8df74eb"
   },
   "outputs": [
    {
     "name": "stdout",
     "output_type": "stream",
     "text": [
      "Results summary\n",
      "Results in /tmp/tb\\untitled_project\n",
      "Showing 10 best trials\n",
      "Objective(name='val_accuracy', direction='max')\n",
      "Trial summary\n",
      "Hyperparameters:\n",
      "layers: 2\n",
      "dropout: 0.5\n",
      "learning_rate: 0.0041\n",
      "filters_input_layer: 64\n",
      "filters_conv_layer0: 128\n",
      "filters_conv_layer1: 32\n",
      "Score: 0.9941666722297668\n",
      "Trial summary\n",
      "Hyperparameters:\n",
      "layers: 2\n",
      "dropout: 0.5\n",
      "learning_rate: 0.0041\n",
      "filters_input_layer: 128\n",
      "filters_conv_layer0: 128\n",
      "filters_conv_layer1: 32\n",
      "Score: 0.9940000176429749\n",
      "Trial summary\n",
      "Hyperparameters:\n",
      "layers: 2\n",
      "dropout: 0.5\n",
      "learning_rate: 0.0041\n",
      "filters_input_layer: 128\n",
      "filters_conv_layer0: 96\n",
      "filters_conv_layer1: 64\n",
      "Score: 0.9933333396911621\n",
      "Trial summary\n",
      "Hyperparameters:\n",
      "layers: 2\n",
      "dropout: 0.5\n",
      "learning_rate: 0.0041\n",
      "filters_input_layer: 128\n",
      "filters_conv_layer0: 32\n",
      "filters_conv_layer1: 32\n",
      "Score: 0.9930833578109741\n",
      "Trial summary\n",
      "Hyperparameters:\n",
      "layers: 2\n",
      "dropout: 0.5\n",
      "learning_rate: 0.0041\n",
      "filters_input_layer: 128\n",
      "filters_conv_layer0: 128\n",
      "filters_conv_layer1: 128\n",
      "Score: 0.9930833578109741\n",
      "Trial summary\n",
      "Hyperparameters:\n",
      "layers: 2\n",
      "dropout: 0.5\n",
      "learning_rate: 0.0041\n",
      "filters_input_layer: 128\n",
      "filters_conv_layer0: 32\n",
      "filters_conv_layer1: 128\n",
      "Score: 0.9928333163261414\n",
      "Trial summary\n",
      "Hyperparameters:\n",
      "layers: 2\n",
      "dropout: 0.5\n",
      "learning_rate: 0.0041\n",
      "filters_input_layer: 32\n",
      "filters_conv_layer0: 32\n",
      "filters_conv_layer1: 96\n",
      "Score: 0.9925000071525574\n",
      "Trial summary\n",
      "Hyperparameters:\n",
      "layers: 2\n",
      "dropout: 0.0\n",
      "learning_rate: 0.0041\n",
      "filters_input_layer: 128\n",
      "filters_conv_layer0: 32\n",
      "filters_conv_layer1: 96\n",
      "Score: 0.9914166927337646\n",
      "Trial summary\n",
      "Hyperparameters:\n",
      "layers: 1\n",
      "dropout: 0.5\n",
      "learning_rate: 0.0011\n",
      "filters_input_layer: 64\n",
      "filters_conv_layer0: 96\n",
      "Score: 0.9902499914169312\n",
      "Trial summary\n",
      "Hyperparameters:\n",
      "layers: 1\n",
      "dropout: 0.2\n",
      "learning_rate: 0.0011\n",
      "filters_input_layer: 64\n",
      "filters_conv_layer0: 96\n",
      "Score: 0.9897500276565552\n"
     ]
    }
   ],
   "source": [
    "GP_tuner.results_summary()"
   ]
  },
  {
   "cell_type": "code",
   "execution_count": 31,
   "metadata": {
    "colab": {
     "base_uri": "https://localhost:8080/"
    },
    "id": "cGiOIY02mpGh",
    "outputId": "7a4c434b-f4d3-4049-cdc4-32dea33e320c"
   },
   "outputs": [
    {
     "name": "stdout",
     "output_type": "stream",
     "text": [
      "{'layers': 2, 'dropout': 0.5, 'learning_rate': 0.0041, 'filters_input_layer': 64, 'filters_conv_layer0': 128, 'filters_conv_layer1': 32}\n"
     ]
    }
   ],
   "source": [
    "best_hp = GP_tuner.get_best_hyperparameters(1)[0]\n",
    "print(best_hp.values)"
   ]
  },
  {
   "cell_type": "code",
   "execution_count": 52,
   "metadata": {
    "colab": {
     "base_uri": "https://localhost:8080/"
    },
    "id": "G-eAMtvwmrPw",
    "outputId": "fc8d2181-6059-460a-817e-f948e04ecb21"
   },
   "outputs": [
    {
     "name": "stdout",
     "output_type": "stream",
     "text": [
      "Epoch 1/10\n",
      "1875/1875 [==============================] - 10s 5ms/step - loss: 0.1843 - accuracy: 0.9479 - val_loss: 0.0460 - val_accuracy: 0.9840\n",
      "Epoch 2/10\n",
      "1875/1875 [==============================] - 9s 5ms/step - loss: 0.0833 - accuracy: 0.9744 - val_loss: 0.0383 - val_accuracy: 0.9879\n",
      "Epoch 3/10\n",
      "1875/1875 [==============================] - 9s 5ms/step - loss: 0.0743 - accuracy: 0.9764 - val_loss: 0.0328 - val_accuracy: 0.9889\n",
      "Epoch 4/10\n",
      "1875/1875 [==============================] - 9s 5ms/step - loss: 0.0653 - accuracy: 0.9795 - val_loss: 0.0408 - val_accuracy: 0.9864\n",
      "Epoch 5/10\n",
      "1875/1875 [==============================] - 9s 5ms/step - loss: 0.0618 - accuracy: 0.9807 - val_loss: 0.0302 - val_accuracy: 0.9898\n",
      "Epoch 6/10\n",
      "1875/1875 [==============================] - 9s 5ms/step - loss: 0.0570 - accuracy: 0.9821 - val_loss: 0.0376 - val_accuracy: 0.9872\n",
      "Epoch 7/10\n",
      "1875/1875 [==============================] - 9s 5ms/step - loss: 0.0532 - accuracy: 0.9838 - val_loss: 0.0295 - val_accuracy: 0.9897\n",
      "Epoch 8/10\n",
      "1875/1875 [==============================] - 9s 5ms/step - loss: 0.0516 - accuracy: 0.9839 - val_loss: 0.0279 - val_accuracy: 0.9903\n",
      "Epoch 9/10\n",
      "1875/1875 [==============================] - 9s 5ms/step - loss: 0.0506 - accuracy: 0.9847 - val_loss: 0.0321 - val_accuracy: 0.9892\n",
      "Epoch 10/10\n",
      "1875/1875 [==============================] - 9s 5ms/step - loss: 0.0488 - accuracy: 0.9849 - val_loss: 0.0300 - val_accuracy: 0.9902\n"
     ]
    }
   ],
   "source": [
    "# Build the model with the best hyperparameters\n",
    "model_GP = GP_tuner.hypermodel.build(best_hp)\n",
    "history = model_GP.fit(x_train, y_train, batch_size=32, epochs=10, validation_data=(x_test, y_test), verbose=1)"
   ]
  },
  {
   "cell_type": "code",
   "execution_count": 53,
   "metadata": {
    "id": "fwEmVAe1mtNR"
   },
   "outputs": [],
   "source": [
    "# Results Gaussian Process\n",
    "GP_accuracy = history.history['val_accuracy']\n",
    "GP_loss = history.history['val_loss']\n",
    "GP_training_accuracy = history.history['accuracy']\n",
    "GP_training_loss = history.history['loss']"
   ]
  },
  {
   "cell_type": "markdown",
   "metadata": {},
   "source": [
    "# Results"
   ]
  },
  {
   "cell_type": "code",
   "execution_count": 57,
   "metadata": {
    "colab": {
     "base_uri": "https://localhost:8080/",
     "height": 279
    },
    "id": "h6ng3JsVZ3mC",
    "outputId": "6d7e2a78-7ea1-4540-e147-c1057fc26fcb"
   },
   "outputs": [
    {
     "data": {
      "image/png": "[encoded data removed]",
      "text/plain": [
       "<Figure size 432x288 with 1 Axes>"
      ]
     },
     "metadata": {
      "needs_background": "light"
     },
     "output_type": "display_data"
    }
   ],
   "source": [
    "TPE_MNIST = np.load('TPE_MNIST.npy') # load\n",
    "# plot\n",
    "plt.plot(range(1,11), RS_accuracy)\n",
    "plt.plot(range(1,11), HP_accuracy)\n",
    "plt.plot(range(1,11), GP_accuracy)\n",
    "plt.plot(range(1,11), TPE_MNIST)\n",
    "plt.xlabel(\"Epoch\")\n",
    "plt.ylabel(\"Accuracy\")\n",
    "plt.title(\"Testing Accuracy over Epoch\")\n",
    "plt.legend(['Random Search', 'Hyperband', 'GP', 'TPE'], loc='lower right')\n",
    "plt.show()"
   ]
  },
  {
   "cell_type": "code",
   "execution_count": 47,
   "metadata": {
    "id": "KWLYTXV9cW8J"
   },
   "outputs": [],
   "source": [
    "np.save('RS_data_mnist.npy', RS_accuracy)\n",
    "np.save('HP_data_mnist.npy', HP_accuracy)\n",
    "np.save('GP_data_mnist.npy', GP_accuracy)"
   ]
  },
  {
   "cell_type": "code",
   "execution_count": null,
   "metadata": {},
   "outputs": [],
   "source": []
  }
 ],
 "metadata": {
  "accelerator": "GPU",
  "colab": {
   "collapsed_sections": [],
   "name": "AML Project.ipynb",
   "provenance": []
  },
  "kernelspec": {
   "display_name": "Python 3 (ipykernel)",
   "language": "python",
   "name": "python3"
  },
  "language_info": {
   "codemirror_mode": {
    "name": "ipython",
    "version": 3
   },
   "file_extension": ".py",
   "mimetype": "text/x-python",
   "name": "python",
   "nbconvert_exporter": "python",
   "pygments_lexer": "ipython3",
   "version": "3.9.2"
  }
 },
 "nbformat": 4,
 "nbformat_minor": 4
}
