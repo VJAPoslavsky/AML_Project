{
  "cells": [
    {
      "cell_type": "code",
      "execution_count": null,
      "metadata": {
        "id": "pmuXm0R7eiM2"
      },
      "outputs": [],
      "source": [
        "import numpy as np\n",
        "import pandas as pd\n",
        "\n",
        "from sklearn.neural_network import MLPRegressor\n",
        "from sklearn.metrics import mean_squared_error\n",
        "from sklearn.datasets import load_boston\n",
        "from sklearn.model_selection import KFold, cross_val_score\n",
        "from sklearn.model_selection import train_test_split\n",
        "from hyperopt import fmin, tpe, hp, anneal, Trials, space_eval\n",
        "\n",
        "%matplotlib inline\n",
        "\n",
        "import warnings\n",
        "warnings.filterwarnings('ignore')"
      ]
    },
    {
      "cell_type": "code",
      "execution_count": null,
      "metadata": {
        "id": "VYDh8Ocre1f5"
      },
      "outputs": [],
      "source": [
        "boston = load_boston()\n",
        "X = pd.DataFrame(boston.data, columns=boston.feature_names)\n",
        "y = boston.target\n",
        "train_data, test_data, train_targets, test_targets = train_test_split(X, y, test_size=0.20, shuffle=True, random_state=42)"
      ]
    },
    {
      "cell_type": "code",
      "execution_count": null,
      "metadata": {
        "colab": {
          "base_uri": "https://localhost:8080/"
        },
        "id": "gBqKE8fne8iH",
        "outputId": "f8589231-e9f2-4ad1-a443-e67d505da2c3"
      },
      "outputs": [
        {
          "output_type": "stream",
          "name": "stdout",
          "text": [
            "The first hidden layer tuples:\n",
            "[(10,), (20,), (30,), (40,), (50,), (10, 10), (20, 20), (30, 30), (40, 40), (50, 50)]\n"
          ]
        }
      ],
      "source": [
        "# Create tuples hidden_layer_sizes\n",
        "hidden_layer_tuples = []\n",
        "n_layers = [1, 2]\n",
        "n_neurons = [10, 20, 30, 40, 50]\n",
        "for layers in n_layers:\n",
        "    for neurons in n_neurons:\n",
        "        cur_size = (neurons,) * layers\n",
        "        hidden_layer_tuples.append(cur_size)\n",
        "print('The first hidden layer tuples:')\n",
        "print(hidden_layer_tuples)"
      ]
    },
    {
      "cell_type": "code",
      "execution_count": null,
      "metadata": {
        "id": "7Vl3KZ1hgCsi"
      },
      "outputs": [],
      "source": [
        "all_val_scores = []\n",
        "all_test_scores = []\n",
        "n_iter = 100\n",
        "num_folds=2\n",
        "kf = KFold(n_splits=num_folds, shuffle=True, random_state=42)"
      ]
    },
    {
      "cell_type": "code",
      "execution_count": null,
      "metadata": {
        "id": "p0kkILjFe-GE"
      },
      "outputs": [],
      "source": [
        "def calculate_min(scores):\n",
        "    test_scores = []\n",
        "    min_test_score = np.inf\n",
        "    for score in scores:\n",
        "        if score < min_test_score:\n",
        "            min_test_score = score\n",
        "        test_scores.append(min_test_score)\n",
        "    return test_scores"
      ]
    },
    {
      "cell_type": "code",
      "execution_count": null,
      "metadata": {
        "id": "5DoQK9AcfBEU"
      },
      "outputs": [],
      "source": [
        "def gb_mse_cv(params, random_state=42, cv=kf, X=train_data, y=train_targets):\n",
        "    params = {\n",
        "        'hidden_layer_sizes': params['hidden_layer_sizes'],\n",
        "        'activation': params['activation'],\n",
        "        'solver': params['solver'],\n",
        "        'alpha': params['alpha'],\n",
        "        'batch_size': int(params['batch_size']),\n",
        "        'learning_rate': params['learning_rate'],\n",
        "        'learning_rate_init': params['learning_rate_init'],\n",
        "        #'power_t': params['power_t'],\n",
        "        #'beta_1': params['beta_1'],\n",
        "        #'beta_2': params['beta_2']\n",
        "    }\n",
        "    \n",
        "    # we use this params to create a new LGBM Regressor\n",
        "    model = MLPRegressor(random_state=random_state, **params)\n",
        "    \n",
        "    # and then conduct the cross validation with the same folds as before\n",
        "    score = -cross_val_score(model, X, y, cv=cv, scoring=\"neg_mean_squared_error\", n_jobs=-1).mean()\n",
        "\n",
        "    return score"
      ]
    },
    {
      "cell_type": "code",
      "execution_count": null,
      "metadata": {
        "id": "3xHctbVIfGJ5",
        "colab": {
          "base_uri": "https://localhost:8080/"
        },
        "outputId": "63d628e1-6d95-4b5a-e39e-08f3becb8cf1"
      },
      "outputs": [
        {
          "output_type": "stream",
          "name": "stdout",
          "text": [
            "100%|██████████| 100/100 [00:43<00:00,  2.28it/s, best loss: 21.581199216143325]\n",
            "Best MSE 21.581 params {'activation': 'relu', 'alpha': 0.028492488126720637, 'batch_size': 213, 'hidden_layer_sizes': (10, 10), 'learning_rate': 'invscaling', 'learning_rate_init': 0.01475050699699766, 'solver': 'adam'}\n",
            "100%|██████████| 100/100 [00:26<00:00,  3.75it/s, best loss: 25.980198272047858]\n",
            "Best MSE 25.980 params {'activation': 'relu', 'alpha': 0.032178020453474544, 'batch_size': 103, 'hidden_layer_sizes': (20,), 'learning_rate': 'invscaling', 'learning_rate_init': 0.07026747279451144, 'solver': 'adam'}\n",
            "100%|██████████| 100/100 [00:30<00:00,  3.24it/s, best loss: 25.47760389391331]\n",
            "Best MSE 25.478 params {'activation': 'relu', 'alpha': 0.09396061131667036, 'batch_size': 129, 'hidden_layer_sizes': (10, 10), 'learning_rate': 'invscaling', 'learning_rate_init': 0.016537533374984374, 'solver': 'adam'}\n",
            "100%|██████████| 100/100 [00:31<00:00,  3.15it/s, best loss: 21.64745013235015]\n",
            "Best MSE 21.647 params {'activation': 'relu', 'alpha': 0.004983107089113886, 'batch_size': 299, 'hidden_layer_sizes': (50, 50), 'learning_rate': 'adaptive', 'learning_rate_init': 0.006909080425810804, 'solver': 'adam'}\n",
            "100%|██████████| 100/100 [00:30<00:00,  3.28it/s, best loss: 20.56614367328602]\n",
            "Best MSE 20.566 params {'activation': 'relu', 'alpha': 0.04298287928817865, 'batch_size': 112, 'hidden_layer_sizes': (20, 20), 'learning_rate': 'invscaling', 'learning_rate_init': 0.02355312608915251, 'solver': 'adam'}\n",
            "CPU times: user 32.7 s, sys: 1.38 s, total: 34.1 s\n",
            "Wall time: 2min 47s\n"
          ]
        }
      ],
      "source": [
        "%%time\n",
        "\n",
        "space = {\n",
        "    'hidden_layer_sizes': hp.choice('hidden_layer_sizes', hidden_layer_tuples),\n",
        "    'activation': hp.choice('activation', ['logistic', 'tanh', 'relu']),\n",
        "    'solver': hp.choice('solver', ['adam']),\n",
        "    'alpha': hp.uniform('alpha', 10**-5, 10**-1),\n",
        "    'batch_size': hp.choice('batch_size', range(2,300)),\n",
        "    'learning_rate': hp.choice('learning_rate', ['constant', 'invscaling', 'adaptive']),\n",
        "    'learning_rate_init': hp.uniform('learning_rate_init', 10**-5, 10**-1),\n",
        "}\n",
        "\n",
        "for random_state in range(5):\n",
        "    # trials will contain logging information\n",
        "    trials = Trials()\n",
        "\n",
        "    best=fmin(fn=gb_mse_cv, # function to optimize\n",
        "            space=space, \n",
        "            algo=tpe.suggest, # optimization algorithm, hyperotp will select its parameters automatically\n",
        "            max_evals=n_iter, # maximum number of iterations\n",
        "            trials=trials, # logging\n",
        "            rstate=np.random.RandomState(random_state) # fixing random state for the reproducibility\n",
        "            )\n",
        "\n",
        "    hyperparams = space_eval(space, best)\n",
        "    reg = MLPRegressor(**hyperparams)\n",
        "    reg.fit(train_data, train_targets)\n",
        "    reg_test_score = mean_squared_error(test_targets, reg.predict(test_data))\n",
        "\n",
        "    print(\"Best MSE {:.3f} params {}\".format( gb_mse_cv(hyperparams), hyperparams))\n",
        "\n",
        "    all_test_scores.append(reg_test_score)\n",
        "\n",
        "    tpe_results=np.array([[x['result']['loss'],\n",
        "                      x['misc']['vals']['activation'][0],\n",
        "                      x['misc']['vals']['alpha'][0],\n",
        "                      x['misc']['vals']['batch_size'][0],\n",
        "                      x['misc']['vals']['hidden_layer_sizes'][0],\n",
        "                      x['misc']['vals']['learning_rate'][0],\n",
        "                      x['misc']['vals']['learning_rate_init'][0],\n",
        "                      x['misc']['vals']['solver'][0]] for x in trials.trials],\n",
        "                     )\n",
        "    tpe_results_df=pd.DataFrame(tpe_results,\n",
        "                            columns=['score',\n",
        "                                    'activation',\n",
        "                                    'alpha',\n",
        "                                    'batch_size',\n",
        "                                    'hidden_layer_sizes',\n",
        "                                    'learning_rate',\n",
        "                                    'learning_rate_init',\n",
        "                                    'solver'])\n",
        "    tpe_results_df['score']\n",
        "    all_val_scores.append(calculate_min(tpe_results_df['score']))"
      ]
    },
    {
      "cell_type": "code",
      "source": [
        "df = pd.DataFrame(all_val_scores).transpose()\n",
        "df.to_csv('full_results.csv', index=False)"
      ],
      "metadata": {
        "id": "zF2qFDPWD2BD"
      },
      "execution_count": null,
      "outputs": []
    },
    {
      "cell_type": "code",
      "source": [
        "mean_std = []\n",
        "for row_index in range(len(df)):\n",
        "    row_np = df.iloc[row_index,:].to_numpy()\n",
        "    mean_row = np.mean(row_np)\n",
        "    std_row = np.std(row_np)\n",
        "    mean_std.append((mean_row, std_row))\n",
        "mean_std"
      ],
      "metadata": {
        "colab": {
          "base_uri": "https://localhost:8080/"
        },
        "id": "5pU4wpHmETp5",
        "outputId": "4f192635-7e33-481a-aada-1e6fe7d80494"
      },
      "execution_count": null,
      "outputs": [
        {
          "output_type": "execute_result",
          "data": {
            "text/plain": [
              "[(85.95370812884562, 5.1827419009495905),\n",
              " (60.46036318480617, 25.089320066705653),\n",
              " (59.79737942835895, 24.37427151755166),\n",
              " (45.804474251205974, 20.454943798044397),\n",
              " (33.0916299074781, 8.03739435178798),\n",
              " (33.0916299074781, 8.03739435178798),\n",
              " (31.33411029369155, 6.597013723555147),\n",
              " (30.239536121045955, 6.233976636676544),\n",
              " (29.121361102199614, 5.988798400444816),\n",
              " (29.121361102199614, 5.988798400444816),\n",
              " (29.121361102199614, 5.988798400444816),\n",
              " (29.121361102199614, 5.988798400444816),\n",
              " (27.527453555626426, 3.5340492731828954),\n",
              " (27.527453555626426, 3.5340492731828954),\n",
              " (27.527453555626426, 3.5340492731828954),\n",
              " (27.527453555626426, 3.5340492731828954),\n",
              " (27.039956071345692, 3.065713475555255),\n",
              " (27.039956071345692, 3.065713475555255),\n",
              " (27.039956071345692, 3.065713475555255),\n",
              " (27.039956071345692, 3.065713475555255),\n",
              " (27.039956071345692, 3.065713475555255),\n",
              " (26.67105705356221, 2.7618010716798262),\n",
              " (25.99165658700366, 2.7133634063975305),\n",
              " (25.99165658700366, 2.7133634063975305),\n",
              " (25.99165658700366, 2.7133634063975305),\n",
              " (25.99165658700366, 2.7133634063975305),\n",
              " (25.99165658700366, 2.7133634063975305),\n",
              " (25.99165658700366, 2.7133634063975305),\n",
              " (25.99165658700366, 2.7133634063975305),\n",
              " (25.99165658700366, 2.7133634063975305),\n",
              " (25.99165658700366, 2.7133634063975305),\n",
              " (25.99165658700366, 2.7133634063975305),\n",
              " (25.99165658700366, 2.7133634063975305),\n",
              " (25.99165658700366, 2.7133634063975305),\n",
              " (25.99165658700366, 2.7133634063975305),\n",
              " (25.99165658700366, 2.7133634063975305),\n",
              " (25.99165658700366, 2.7133634063975305),\n",
              " (25.99165658700366, 2.7133634063975305),\n",
              " (25.99165658700366, 2.7133634063975305),\n",
              " (25.99165658700366, 2.7133634063975305),\n",
              " (25.99165658700366, 2.7133634063975305),\n",
              " (25.99165658700366, 2.7133634063975305),\n",
              " (25.99165658700366, 2.7133634063975305),\n",
              " (25.99165658700366, 2.7133634063975305),\n",
              " (25.99165658700366, 2.7133634063975305),\n",
              " (25.826026714628302, 2.587710051930952),\n",
              " (25.826026714628302, 2.587710051930952),\n",
              " (25.826026714628302, 2.587710051930952),\n",
              " (25.826026714628302, 2.587710051930952),\n",
              " (25.826026714628302, 2.587710051930952),\n",
              " (25.826026714628302, 2.587710051930952),\n",
              " (25.826026714628302, 2.587710051930952),\n",
              " (25.826026714628302, 2.587710051930952),\n",
              " (25.826026714628302, 2.587710051930952),\n",
              " (25.826026714628302, 2.587710051930952),\n",
              " (25.826026714628302, 2.587710051930952),\n",
              " (25.826026714628302, 2.587710051930952),\n",
              " (25.826026714628302, 2.587710051930952),\n",
              " (25.826026714628302, 2.587710051930952),\n",
              " (25.172084072518984, 1.9869782558252902),\n",
              " (25.172084072518984, 1.9869782558252902),\n",
              " (25.172084072518984, 1.9869782558252902),\n",
              " (25.172084072518984, 1.9869782558252902),\n",
              " (25.172084072518984, 1.9869782558252902),\n",
              " (24.911550721593347, 2.097347800347335),\n",
              " (24.634737322901515, 1.8081074553081757),\n",
              " (24.634737322901515, 1.8081074553081757),\n",
              " (24.634737322901515, 1.8081074553081757),\n",
              " (24.634737322901515, 1.8081074553081757),\n",
              " (24.634737322901515, 1.8081074553081757),\n",
              " (24.634737322901515, 1.8081074553081757),\n",
              " (24.634737322901515, 1.8081074553081757),\n",
              " (24.634737322901515, 1.8081074553081757),\n",
              " (24.634737322901515, 1.8081074553081757),\n",
              " (24.634737322901515, 1.8081074553081757),\n",
              " (24.634737322901515, 1.8081074553081757),\n",
              " (24.634737322901515, 1.8081074553081757),\n",
              " (24.634737322901515, 1.8081074553081757),\n",
              " (24.634737322901515, 1.8081074553081757),\n",
              " (23.739927011415393, 1.9522423957186226),\n",
              " (23.739927011415393, 1.9522423957186226),\n",
              " (23.739927011415393, 1.9522423957186226),\n",
              " (23.642363113980952, 1.8479905380897295),\n",
              " (23.642363113980952, 1.8479905380897295),\n",
              " (23.642363113980952, 1.8479905380897295),\n",
              " (23.642363113980952, 1.8479905380897295),\n",
              " (23.642363113980952, 1.8479905380897295),\n",
              " (23.642363113980952, 1.8479905380897295),\n",
              " (23.05051903754813, 2.2259103916337284),\n",
              " (23.05051903754813, 2.2259103916337284),\n",
              " (23.05051903754813, 2.2259103916337284),\n",
              " (23.05051903754813, 2.2259103916337284),\n",
              " (23.05051903754813, 2.2259103916337284),\n",
              " (23.05051903754813, 2.2259103916337284),\n",
              " (23.05051903754813, 2.2259103916337284),\n",
              " (23.05051903754813, 2.2259103916337284),\n",
              " (23.05051903754813, 2.2259103916337284),\n",
              " (23.05051903754813, 2.2259103916337284),\n",
              " (23.05051903754813, 2.2259103916337284),\n",
              " (23.05051903754813, 2.2259103916337284)]"
            ]
          },
          "metadata": {},
          "execution_count": 59
        }
      ]
    },
    {
      "cell_type": "code",
      "source": [
        "final_df = pd.DataFrame(mean_std, columns=['Mean', 'Std'])\n",
        "final_df"
      ],
      "metadata": {
        "colab": {
          "base_uri": "https://localhost:8080/",
          "height": 655
        },
        "id": "Rji2Z4RLEVgu",
        "outputId": "61eed953-b13c-4620-b966-ace2ba389557"
      },
      "execution_count": null,
      "outputs": [
        {
          "output_type": "execute_result",
          "data": {
            "text/html": [
              "\n",
              "  <div id=\"df-96092c0f-4f74-4a48-a99f-7c7f9ba14180\">\n",
              "    <div class=\"colab-df-container\">\n",
              "      <div>\n",
              "<style scoped>\n",
              "    .dataframe tbody tr th:only-of-type {\n",
              "        vertical-align: middle;\n",
              "    }\n",
              "\n",
              "    .dataframe tbody tr th {\n",
              "        vertical-align: top;\n",
              "    }\n",
              "\n",
              "    .dataframe thead th {\n",
              "        text-align: right;\n",
              "    }\n",
              "</style>\n",
              "<table border=\"1\" class=\"dataframe\">\n",
              "  <thead>\n",
              "    <tr style=\"text-align: right;\">\n",
              "      <th></th>\n",
              "      <th>Mean</th>\n",
              "      <th>Std</th>\n",
              "    </tr>\n",
              "  </thead>\n",
              "  <tbody>\n",
              "    <tr>\n",
              "      <th>0</th>\n",
              "      <td>85.953708</td>\n",
              "      <td>5.182742</td>\n",
              "    </tr>\n",
              "    <tr>\n",
              "      <th>1</th>\n",
              "      <td>60.460363</td>\n",
              "      <td>25.089320</td>\n",
              "    </tr>\n",
              "    <tr>\n",
              "      <th>2</th>\n",
              "      <td>59.797379</td>\n",
              "      <td>24.374272</td>\n",
              "    </tr>\n",
              "    <tr>\n",
              "      <th>3</th>\n",
              "      <td>45.804474</td>\n",
              "      <td>20.454944</td>\n",
              "    </tr>\n",
              "    <tr>\n",
              "      <th>4</th>\n",
              "      <td>33.091630</td>\n",
              "      <td>8.037394</td>\n",
              "    </tr>\n",
              "    <tr>\n",
              "      <th>...</th>\n",
              "      <td>...</td>\n",
              "      <td>...</td>\n",
              "    </tr>\n",
              "    <tr>\n",
              "      <th>95</th>\n",
              "      <td>23.050519</td>\n",
              "      <td>2.225910</td>\n",
              "    </tr>\n",
              "    <tr>\n",
              "      <th>96</th>\n",
              "      <td>23.050519</td>\n",
              "      <td>2.225910</td>\n",
              "    </tr>\n",
              "    <tr>\n",
              "      <th>97</th>\n",
              "      <td>23.050519</td>\n",
              "      <td>2.225910</td>\n",
              "    </tr>\n",
              "    <tr>\n",
              "      <th>98</th>\n",
              "      <td>23.050519</td>\n",
              "      <td>2.225910</td>\n",
              "    </tr>\n",
              "    <tr>\n",
              "      <th>99</th>\n",
              "      <td>23.050519</td>\n",
              "      <td>2.225910</td>\n",
              "    </tr>\n",
              "  </tbody>\n",
              "</table>\n",
              "<p>100 rows × 2 columns</p>\n",
              "</div>\n",
              "      <button class=\"colab-df-convert\" onclick=\"convertToInteractive('df-96092c0f-4f74-4a48-a99f-7c7f9ba14180')\"\n",
              "              title=\"Convert this dataframe to an interactive table.\"\n",
              "              style=\"display:none;\">\n",
              "        \n",
              "  <svg xmlns=\"http://www.w3.org/2000/svg\" height=\"24px\"viewBox=\"0 0 24 24\"\n",
              "       width=\"24px\">\n",
              "    <path d=\"M0 0h24v24H0V0z\" fill=\"none\"/>\n",
              "    <path d=\"M18.56 5.44l.94 2.06.94-2.06 2.06-.94-2.06-.94-.94-2.06-.94 2.06-2.06.94zm-11 1L8.5 8.5l.94-2.06 2.06-.94-2.06-.94L8.5 2.5l-.94 2.06-2.06.94zm10 10l.94 2.06.94-2.06 2.06-.94-2.06-.94-.94-2.06-.94 2.06-2.06.94z\"/><path d=\"M17.41 7.96l-1.37-1.37c-.4-.4-.92-.59-1.43-.59-.52 0-1.04.2-1.43.59L10.3 9.45l-7.72 7.72c-.78.78-.78 2.05 0 2.83L4 21.41c.39.39.9.59 1.41.59.51 0 1.02-.2 1.41-.59l7.78-7.78 2.81-2.81c.8-.78.8-2.07 0-2.86zM5.41 20L4 18.59l7.72-7.72 1.47 1.35L5.41 20z\"/>\n",
              "  </svg>\n",
              "      </button>\n",
              "      \n",
              "  <style>\n",
              "    .colab-df-container {\n",
              "      display:flex;\n",
              "      flex-wrap:wrap;\n",
              "      gap: 12px;\n",
              "    }\n",
              "\n",
              "    .colab-df-convert {\n",
              "      background-color: #E8F0FE;\n",
              "      border: none;\n",
              "      border-radius: 50%;\n",
              "      cursor: pointer;\n",
              "      display: none;\n",
              "      fill: #1967D2;\n",
              "      height: 32px;\n",
              "      padding: 0 0 0 0;\n",
              "      width: 32px;\n",
              "    }\n",
              "\n",
              "    .colab-df-convert:hover {\n",
              "      background-color: #E2EBFA;\n",
              "      box-shadow: 0px 1px 2px rgba(60, 64, 67, 0.3), 0px 1px 3px 1px rgba(60, 64, 67, 0.15);\n",
              "      fill: #174EA6;\n",
              "    }\n",
              "\n",
              "    [theme=dark] .colab-df-convert {\n",
              "      background-color: #3B4455;\n",
              "      fill: #D2E3FC;\n",
              "    }\n",
              "\n",
              "    [theme=dark] .colab-df-convert:hover {\n",
              "      background-color: #434B5C;\n",
              "      box-shadow: 0px 1px 3px 1px rgba(0, 0, 0, 0.15);\n",
              "      filter: drop-shadow(0px 1px 2px rgba(0, 0, 0, 0.3));\n",
              "      fill: #FFFFFF;\n",
              "    }\n",
              "  </style>\n",
              "\n",
              "      <script>\n",
              "        const buttonEl =\n",
              "          document.querySelector('#df-96092c0f-4f74-4a48-a99f-7c7f9ba14180 button.colab-df-convert');\n",
              "        buttonEl.style.display =\n",
              "          google.colab.kernel.accessAllowed ? 'block' : 'none';\n",
              "\n",
              "        async function convertToInteractive(key) {\n",
              "          const element = document.querySelector('#df-96092c0f-4f74-4a48-a99f-7c7f9ba14180');\n",
              "          const dataTable =\n",
              "            await google.colab.kernel.invokeFunction('convertToInteractive',\n",
              "                                                     [key], {});\n",
              "          if (!dataTable) return;\n",
              "\n",
              "          const docLinkHtml = 'Like what you see? Visit the ' +\n",
              "            '<a target=\"_blank\" href=https://colab.research.google.com/notebooks/data_table.ipynb>data table notebook</a>'\n",
              "            + ' to learn more about interactive tables.';\n",
              "          element.innerHTML = '';\n",
              "          dataTable['output_type'] = 'display_data';\n",
              "          await google.colab.output.renderOutput(dataTable, element);\n",
              "          const docLink = document.createElement('div');\n",
              "          docLink.innerHTML = docLinkHtml;\n",
              "          element.appendChild(docLink);\n",
              "        }\n",
              "      </script>\n",
              "    </div>\n",
              "  </div>\n",
              "  "
            ],
            "text/plain": [
              "         Mean        Std\n",
              "0   85.953708   5.182742\n",
              "1   60.460363  25.089320\n",
              "2   59.797379  24.374272\n",
              "3   45.804474  20.454944\n",
              "4   33.091630   8.037394\n",
              "..        ...        ...\n",
              "95  23.050519   2.225910\n",
              "96  23.050519   2.225910\n",
              "97  23.050519   2.225910\n",
              "98  23.050519   2.225910\n",
              "99  23.050519   2.225910\n",
              "\n",
              "[100 rows x 2 columns]"
            ]
          },
          "metadata": {},
          "execution_count": 60
        }
      ]
    },
    {
      "cell_type": "code",
      "source": [
        "final_df.to_csv('TPE - Final Results.csv', index=False)"
      ],
      "metadata": {
        "id": "jN4KNt-GEXbb"
      },
      "execution_count": null,
      "outputs": []
    },
    {
      "cell_type": "code",
      "source": [
        "test_df = pd.DataFrame(all_test_scores, columns=['Test scores'])\n",
        "test_df.to_csv('TPE - Test scores.csv', index=False)"
      ],
      "metadata": {
        "id": "rh0bqCb_EZmG"
      },
      "execution_count": null,
      "outputs": []
    }
  ],
  "metadata": {
    "colab": {
      "collapsed_sections": [],
      "name": "AML - MLP (TPE).ipynb",
      "provenance": []
    },
    "kernelspec": {
      "display_name": "Python 3",
      "name": "python3"
    },
    "language_info": {
      "name": "python"
    }
  },
  "nbformat": 4,
  "nbformat_minor": 0
}